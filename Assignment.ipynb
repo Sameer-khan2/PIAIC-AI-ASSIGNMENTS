{
 "cells": [
  {
   "cell_type": "code",
   "execution_count": null,
   "metadata": {},
   "outputs": [],
   "source": [
    "#Q.1 Write a Python program which accepts the radius of a circle from the user and compute the area\n",
    "\n",
    "from math import pi\n",
    "r = float (input (\"Enter a Radius\"))\n",
    "print (\"For a Circle with\" + str(r) + \"of Radius\")\n",
    "X = (pi*r*r)\n",
    "print (\"The area is :\" + str(X))\n"
   ]
  },
  {
   "cell_type": "code",
   "execution_count": null,
   "metadata": {},
   "outputs": [],
   "source": [
    "#Q.2 Write a Python program to check if a number is positive, negative or zero\n",
    "\n",
    "Num = float (input(\"Enter a Number: \"))\n",
    "if Num > 0:\n",
    "   print (\"Number Is Positive \")\n",
    "elif Num == 0:\n",
    "   print (\"Number Is Zero\")\n",
    "else:\n",
    "   print (\"Number Is Negative\")\n"
   ]
  },
  {
   "cell_type": "code",
   "execution_count": null,
   "metadata": {},
   "outputs": [],
   "source": [
    "#Q.3 Write a Python function to check whether a number is completely divisible by another number. Accept two integer values form the user\n",
    "\n",
    "def multiple (m, n):\n",
    "    return True if m % n == 0 else False\n",
    "m = str (input(\"Enter a Number: \"))\n",
    "n = str (input(\"Enter a Divider Number: \"))\n",
    "print (\"Number\" + m + \"is Completely divisible by\" + n)\n"
   ]
  },
  {
   "cell_type": "code",
   "execution_count": null,
   "metadata": {},
   "outputs": [],
   "source": [
    "#Q.4 Write a Python program to calculate number of days between two dates\n",
    "\n",
    "import datetime\n",
    "y=int(input(\"Enter year:\"))\n",
    "m=int(input(\"Enter month:\"))\n",
    "d=int(input(\"Enter date:\"))\n",
    "today = datetime.date(y, m, d)\n",
    "\n",
    "Y=int(input(\"Enter year:\"))\n",
    "M=int(input(\"Enter month:\"))\n",
    "D=int(input(\"Enter date:\"))\n",
    "someday = datetime.date(Y, M, D)\n",
    "diff = someday - today\n",
    "print(\"There are\" +  diff + \"days in between\" + someday + \"and\" + today)\n"
   ]
  },
  {
   "cell_type": "code",
   "execution_count": null,
   "metadata": {},
   "outputs": [],
   "source": [
    "#Q.5 Write a Python program to get the volume of a sphere, please take the radius as input from user. V=4 / 3 πr3 \n",
    "\n",
    "from math import pi \n",
    "radian = float(input('Radius of sphere: '))\n",
    "volume = (4/3) * (pi * radian ** 3)\n",
    "print(\"Volume is: \", volume)\n",
    "\n"
   ]
  },
  {
   "cell_type": "code",
   "execution_count": null,
   "metadata": {},
   "outputs": [],
   "source": [
    "#Q.6 Write a Python program to get a string which is n (non-negative integer) copies of a given string \n",
    "\n",
    "def larger_string(str, n):\n",
    "   result = \"\"\n",
    "   for i in range(n):\n",
    "    result = result + str\n",
    "return result\n",
    "\n",
    "word = str (input(\"Enter Word :\" ))\n",
    "n = float (input(\"Enter cycle number:\" )\n",
    "print(larger_string( word , n))\n",
    "\n",
    "           "
   ]
  },
  {
   "cell_type": "code",
   "execution_count": null,
   "metadata": {},
   "outputs": [],
   "source": [
    "#Q.7 Write a Python program to find whether a given number (accept from the user) is even or odd, print out an appropriate message to the user.\n",
    "\n",
    "num = int(input(\"Enter a number: \"))\n",
    "A = num % 2\n",
    "if A > 0:\n",
    "    print(\"This is an odd number.\")\n",
    "else:\n",
    "    print(\"This is an even number.\")\n"
   ]
  },
  {
   "cell_type": "code",
   "execution_count": null,
   "metadata": {},
   "outputs": [],
   "source": [
    "#Q.8 Write a Python program to test whether a passed letter is a vowel or not \n",
    "\n",
    "def is_vowel(char):\n",
    "    all_vowels = \"aeiou\"\n",
    "    return char in all_vowels\n",
    "word input (\"Enter ALPHABATIC:\")\n",
    "print(is_vowel(word))\n"
   ]
  },
  {
   "cell_type": "code",
   "execution_count": null,
   "metadata": {},
   "outputs": [],
   "source": [
    "#Q.9 Write a Python program that will accept the base and height of a triangle and compute the area\n",
    "\n",
    "b = int(input(\"Enter magnitude of Triangle base:\"))\n",
    "h = int(input(\"Enter Magnitude of Triangle Height: \"))\n",
    "\n",
    "area = b*h/2\n",
    "\n",
    "print(\"area = \", area)\n"
   ]
  },
  {
   "cell_type": "code",
   "execution_count": null,
   "metadata": {},
   "outputs": [],
   "source": [
    "#Q.10 Write a Python program to compute the future value of a specified principal amount, rate of interest, and a number of years. \n",
    "\n",
    "amt = float (input(\"Enter amount : \"))\n",
    "int = float (input(\"Enter rate of interest :\" ))\n",
    "years = float (input(\"Enter number of years :\" ))\n",
    "\n",
    "future_value  = amt*((1+(0.01*int)) ** years)\n",
    "print(round(future_value,2))\n"
   ]
  },
  {
   "cell_type": "code",
   "execution_count": null,
   "metadata": {},
   "outputs": [],
   "source": [
    "#Q.11 Write a Python program to compute the distance between the points (x1, y1) and (x2, y2).\n",
    "\n",
    "import math\n",
    "print (\"===Input First Point===\")\n",
    "a = float(input(\"Input the first number : \"))\n",
    "b = float(input(\"Input the second number : \"))\n",
    "\n",
    "print (\"===Input Second Point===\")\n",
    "x = float(input(\"Input the first number : \"))\n",
    "y = float(input(\"Input the second number : \"))\n",
    "\n",
    "p1 = [a, b]\n",
    "p2 = [x, y]\n",
    "distance = math.sqrt( ((p1[0]-p2[0])**2)+((p1[1]-p2[1])**2) )\n",
    "\n",
    "print(\"Distance between two points is\" , distance)\n"
   ]
  },
  {
   "cell_type": "code",
   "execution_count": null,
   "metadata": {},
   "outputs": [],
   "source": [
    "#Q.12 Write a Python program to convert height to centimetres. \n",
    "\n",
    "print(\"Enter your info: \")\n",
    "ft = int(input(\"Feet: \"))\n",
    "inch = int(input(\"Inches: \"))\n",
    "\n",
    "inch += ft * 12\n",
    "cm = round (inch * 2.54, 1)\n",
    "\n",
    "print(\"Your height is : %d cm.\" % cm)\n"
   ]
  },
  {
   "cell_type": "code",
   "execution_count": null,
   "metadata": {},
   "outputs": [],
   "source": [
    "#Q.13 Write a Python program to calculate body mass index\n",
    "\n",
    "height = float(input(\"Input your height in meters: \"))\n",
    "weight = float(input(\"Input your weight in kilogram: \"))\n",
    "print(\"Your body mass index is: \", round(weight / (height * height), 2))\n"
   ]
  },
  {
   "cell_type": "code",
   "execution_count": null,
   "metadata": {},
   "outputs": [],
   "source": [
    "#Q.14 Write a python program to sum of the first n positive integers\n",
    "\n",
    "n = int(input(\"Input a number: \"))\n",
    "sum_num = (n * (n + 1)) / 2\n",
    "print(\"Sum of n Positive integers till\" , n , \"is\" , sum_num)\n"
   ]
  },
  {
   "cell_type": "code",
   "execution_count": null,
   "metadata": {},
   "outputs": [],
   "source": [
    "#Q.15 Write a Python program to calculate the sum of the digits in an integer\n",
    "\n",
    "num = int(input(\"Input a four digit numbers: \"))\n",
    "x  = num //1000\n",
    "x1 = (num - x*1000)//100\n",
    "x2 = (num - x*1000 - x1*100)//10\n",
    "x3 = num - x*1000 - x1*100 - x2*10\n",
    "print(\"The sum of digits in the number is\", x+x1+x2+x3)\n"
   ]
  },
  {
   "cell_type": "code",
   "execution_count": null,
   "metadata": {},
   "outputs": [],
   "source": [
    "#Q.16 Write a Python program to convert an decimal integer to binary\n",
    "\n",
    "def decimalToBinary(num):\n",
    "    if num > 1:\n",
    "        decimalToBinary(num // 2)\n",
    "    print(num % 2, end='')\n",
    "\n",
    "number = float(input(\"Enter any decimal number: \"))\n",
    "\n",
    "print (\"Decimal Representation of\" , decimalToBinary(number) , \"is\" , number)\n"
   ]
  },
  {
   "cell_type": "code",
   "execution_count": null,
   "metadata": {},
   "outputs": [],
   "source": [
    "#Q.17 Write a program to convert binary number to Decimal number\n",
    "b_num = list(input(\"Input a binary number: \"))\n",
    "value = 0\n",
    "\n",
    "for i in range(len(b_num)):\n",
    "    digit = b_num.pop()\n",
    "    if digit == '1':\n",
    "        value = value + pow(2, i)\n",
    "print(\"The decimal value of the number is\", value)\n"
   ]
  },
  {
   "cell_type": "code",
   "execution_count": null,
   "metadata": {},
   "outputs": [],
   "source": [
    "#Q.18 Input a text and count the occurrences of vowels and consonant \n",
    "\n",
    "import java.util.Scanner;\n",
    "{\n",
    "  public static void main(String[] args)\n",
    "    {\n",
    "        Scanner in = new Scanner(System.in);\n",
    "        System.out.print(\"Input the string: \");\n",
    "        String str = in.nextLine();\n",
    "\n",
    "        System.out.print(\"Number of  Vowels in the string: \" + count_Vowels(str)+\"\\n\");\n",
    "    }\n",
    " public static int count_Vowels(String str)\n",
    "    {\n",
    "        int count = 0;\n",
    "        for (int i = 0; i < str.length(); i++)\n",
    "        {\n",
    "            if (str.charAt(i) == 'a' || str.charAt(i) == 'e' || str.charAt(i) == 'i'\n",
    "                    || str.charAt(i) == 'o' || str.charAt(i) == 'u')\n",
    "            {\n",
    "                count++;\n",
    "            }\n",
    "        }\n",
    "        return count;\n",
    "    }\n",
    "}\n"
   ]
  },
  {
   "cell_type": "code",
   "execution_count": null,
   "metadata": {},
   "outputs": [],
   "source": [
    "#Q.19 Write a program to check whether given input is palindrome or not \n",
    "\n",
    "def isPalindrome(str): \n",
    "   \n",
    "    for i in xrange(0, len(str)/2):  \n",
    "        if str[i] != str[len(str)-i-1]: \n",
    "            return False\n",
    "    return True\n",
    "\n",
    "s = input (\"Enter Word : \") \n",
    "ans = isPalindrome(s) \n",
    "  \n",
    "if (ans): \n",
    "    print(\"Yes\") \n",
    "else: \n",
    "    print(\"No\")\n"
   ]
  },
  {
   "cell_type": "code",
   "execution_count": null,
   "metadata": {},
   "outputs": [],
   "source": [
    "#Q.20 Write a Python program that accepts a string and calculate the number of digits and letters \n",
    "\n",
    "string = input(\"Please Enter your Word : \")\n",
    "alphabets = digits = special = 0\n",
    "\n",
    "for i in range(len(string)):\n",
    "    if(string[i].isalpha()):\n",
    "        alphabets = alphabets + 1\n",
    "    elif(string[i].isdigit()):\n",
    "        digits = digits + 1\n",
    "    else:\n",
    "        special = special + 1\n",
    "        \n",
    "print(\"\\n Total Number of Alphabets in this String :  \", alphabets)\n",
    "print(\"Total Number of Digits in this String :  \", digits)\n",
    "print(\"Total Number of Special Characters:  \", special)\n"
   ]
  },
  {
   "cell_type": "code",
   "execution_count": null,
   "metadata": {},
   "outputs": [],
   "source": [
    "#Q.21 Write a Python program to construct the following pattern \n",
    "#* \n",
    "#* * \n",
    "#* * * \n",
    "#* * * * \n",
    "#* * * * * \n",
    "#* * * * \n",
    "#* * * \n",
    "#* * \n",
    "#*\n",
    "\n",
    "\n",
    "n=5;\n",
    "for i in range(n):\n",
    "    for j in range(i):\n",
    "        print ('* ', end=\"\")\n",
    "    print('')\n",
    "\n",
    "for i in range(n,0,-1):\n",
    "    for j in range(i):\n",
    "        print('* ', end=\"\")\n",
    "    print('')\n"
   ]
  },
  {
   "cell_type": "code",
   "execution_count": null,
   "metadata": {},
   "outputs": [],
   "source": [
    "#Q.22 Write a Python program to construct the following pattern \n",
    "\n",
    "#1 \n",
    "#1 2 \n",
    "#1 2 3 \n",
    "#1 2 3 4 \n",
    "#1 2 3 4 5 \n",
    "#1 2 3 4 \n",
    "#1 2 3 \n",
    "#1 2\n",
    "#1\n",
    "\n",
    "number=5\n",
    "random = 1\n",
    "for i in range(number):\n",
    "    for j in range(i):\n",
    "        print (j+1, end=\"\")\n",
    "    \n",
    "    print('')\n",
    "\n",
    "for i in range(5,0,-1):\n",
    "    for j in range(i):\n",
    "        print(j+1, end=\"\")\n",
    "    print('')\n"
   ]
  },
  {
   "cell_type": "code",
   "execution_count": null,
   "metadata": {},
   "outputs": [],
   "source": [
    "#Q.23 Write a Python program to construct the following pattern \n",
    "\n",
    "#1\n",
    "#22\n",
    "#333\n",
    "#4444\n",
    "#55555\n",
    "#666666\n",
    "#7777777\n",
    "#88888888\n",
    "#999999999\n",
    "\n",
    "for i in range(10):\n",
    "    print(str(i) * i)\n"
   ]
  },
  {
   "cell_type": "code",
   "execution_count": null,
   "metadata": {},
   "outputs": [],
   "source": []
  }
 ],
 "metadata": {
  "kernelspec": {
   "display_name": "Python 3",
   "language": "python",
   "name": "python3"
  },
  "language_info": {
   "codemirror_mode": {
    "name": "ipython",
    "version": 3
   },
   "file_extension": ".py",
   "mimetype": "text/x-python",
   "name": "python",
   "nbconvert_exporter": "python",
   "pygments_lexer": "ipython3",
   "version": "3.7.3"
  }
 },
 "nbformat": 4,
 "nbformat_minor": 2
}
